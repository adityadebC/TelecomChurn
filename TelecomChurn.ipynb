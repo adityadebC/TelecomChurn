{
 "cells": [
  {
   "cell_type": "code",
   "execution_count": 80,
   "metadata": {},
   "outputs": [],
   "source": [
    "import tensorflow as tf\n",
    "from tensorflow.keras.models import Sequential\n",
    "from tensorflow.keras.layers import Dense\n",
    "import pandas as pd\n",
    "import numpy as np\n",
    "from sklearn.preprocessing import LabelEncoder\n",
    "import matplotlib.pyplot as plt"
   ]
  },
  {
   "cell_type": "code",
   "execution_count": 81,
   "metadata": {},
   "outputs": [],
   "source": [
    "df = pd.read_csv(\"telecom_users.csv\")"
   ]
  },
  {
   "cell_type": "code",
   "execution_count": 82,
   "metadata": {},
   "outputs": [],
   "source": [
    "columns = df.columns"
   ]
  },
  {
   "cell_type": "code",
   "execution_count": 83,
   "metadata": {},
   "outputs": [],
   "source": [
    "for i in columns:\n",
    "    df[i] = LabelEncoder().fit_transform(df[i])"
   ]
  },
  {
   "cell_type": "code",
   "execution_count": 84,
   "metadata": {},
   "outputs": [
    {
     "data": {
      "text/plain": [
       "(5986, 21)"
      ]
     },
     "execution_count": 84,
     "metadata": {},
     "output_type": "execute_result"
    }
   ],
   "source": [
    "data = df.iloc[:,:-1]\n",
    "label = df.iloc[:,-1]\n",
    "\n",
    "data = np.array(data)\n",
    "label = np.array(label)\n",
    "\n",
    "data.shape"
   ]
  },
  {
   "cell_type": "code",
   "execution_count": 85,
   "metadata": {},
   "outputs": [
    {
     "name": "stderr",
     "output_type": "stream",
     "text": [
      "C:\\ProgramData\\Anaconda3\\lib\\site-packages\\sklearn\\utils\\validation.py:68: FutureWarning: Pass classes=[0 1], y=[0 0 1 ... 0 1 0] as keyword args. From version 0.25 passing these as positional arguments will result in an error\n",
      "  warnings.warn(\"Pass {} as keyword args. From version 0.25 \"\n"
     ]
    }
   ],
   "source": [
    "from sklearn.utils.class_weight import compute_class_weight\n",
    "weight_array = compute_class_weight('balanced', np.unique(label), label)  # y is the array containing your labels \n",
    "\n",
    "weight_dict = dict(zip(np.unique(label), weight_array))  # dictionary containing your weights"
   ]
  },
  {
   "cell_type": "code",
   "execution_count": 86,
   "metadata": {},
   "outputs": [],
   "source": [
    "model = Sequential([\n",
    "    Dense(64, input_shape=(1,21), activation = 'relu'),\n",
    "    Dense(32, activation='relu'),\n",
    "    Dense(16, activation = 'relu'),\n",
    "    Dense(1, activation='sigmoid')\n",
    "])"
   ]
  },
  {
   "cell_type": "code",
   "execution_count": 87,
   "metadata": {},
   "outputs": [],
   "source": [
    "model.compile(optimizer = 'adam',loss = 'binary_crossentropy', metrics=['accuracy', tf.keras.metrics.Recall()])"
   ]
  },
  {
   "cell_type": "code",
   "execution_count": 88,
   "metadata": {},
   "outputs": [
    {
     "name": "stdout",
     "output_type": "stream",
     "text": [
      "Epoch 1/50\n",
      "WARNING:tensorflow:Model was constructed with shape (None, 1, 21) for input KerasTensor(type_spec=TensorSpec(shape=(None, 1, 21), dtype=tf.float32, name='dense_17_input'), name='dense_17_input', description=\"created by layer 'dense_17_input'\"), but it was called on an input with incompatible shape (None, 21).\n",
      "WARNING:tensorflow:Model was constructed with shape (None, 1, 21) for input KerasTensor(type_spec=TensorSpec(shape=(None, 1, 21), dtype=tf.float32, name='dense_17_input'), name='dense_17_input', description=\"created by layer 'dense_17_input'\"), but it was called on an input with incompatible shape (None, 21).\n",
      "122/150 [=======================>......] - ETA: 0s - loss: 14.8771 - accuracy: 0.5242 - recall_2: 0.5495WARNING:tensorflow:Model was constructed with shape (None, 1, 21) for input KerasTensor(type_spec=TensorSpec(shape=(None, 1, 21), dtype=tf.float32, name='dense_17_input'), name='dense_17_input', description=\"created by layer 'dense_17_input'\"), but it was called on an input with incompatible shape (None, 21).\n",
      "150/150 [==============================] - 2s 4ms/step - loss: 13.4712 - accuracy: 0.5291 - recall_2: 0.5535 - val_loss: 2.6862 - val_accuracy: 0.7554 - val_recall_2: 0.1111\n",
      "Epoch 2/50\n",
      "150/150 [==============================] - 0s 1ms/step - loss: 3.2819 - accuracy: 0.5852 - recall_2: 0.5574 - val_loss: 1.2486 - val_accuracy: 0.6728 - val_recall_2: 0.5791\n",
      "Epoch 3/50\n",
      "150/150 [==============================] - 0s 1ms/step - loss: 1.8440 - accuracy: 0.6199 - recall_2: 0.6104 - val_loss: 1.3233 - val_accuracy: 0.7362 - val_recall_2: 0.2862\n",
      "Epoch 4/50\n",
      "150/150 [==============================] - 0s 1ms/step - loss: 1.9926 - accuracy: 0.6349 - recall_2: 0.6220 - val_loss: 1.6627 - val_accuracy: 0.5801 - val_recall_2: 0.8384\n",
      "Epoch 5/50\n",
      "150/150 [==============================] - 0s 963us/step - loss: 1.7063 - accuracy: 0.6264 - recall_2: 0.6630 - val_loss: 1.4814 - val_accuracy: 0.7588 - val_recall_2: 0.1212\n",
      "Epoch 6/50\n",
      "150/150 [==============================] - 0s 944us/step - loss: 1.8934 - accuracy: 0.6254 - recall_2: 0.6178 - val_loss: 1.2583 - val_accuracy: 0.7538 - val_recall_2: 0.2222\n",
      "Epoch 7/50\n",
      "150/150 [==============================] - 0s 970us/step - loss: 1.9176 - accuracy: 0.6248 - recall_2: 0.6266 - val_loss: 2.6511 - val_accuracy: 0.4933 - val_recall_2: 0.9293\n",
      "Epoch 8/50\n",
      "150/150 [==============================] - 0s 957us/step - loss: 1.5884 - accuracy: 0.6436 - recall_2: 0.6615 - val_loss: 1.0972 - val_accuracy: 0.6903 - val_recall_2: 0.7845\n",
      "Epoch 9/50\n",
      "150/150 [==============================] - 0s 1ms/step - loss: 1.1191 - accuracy: 0.6833 - recall_2: 0.7076 - val_loss: 2.2505 - val_accuracy: 0.5392 - val_recall_2: 0.9394\n",
      "Epoch 10/50\n",
      "150/150 [==============================] - 0s 976us/step - loss: 1.4339 - accuracy: 0.6509 - recall_2: 0.6467 - val_loss: 2.2005 - val_accuracy: 0.4975 - val_recall_2: 0.9259\n",
      "Epoch 11/50\n",
      "150/150 [==============================] - 0s 931us/step - loss: 1.1940 - accuracy: 0.6653 - recall_2: 0.6749 - val_loss: 1.0982 - val_accuracy: 0.6503 - val_recall_2: 0.8081\n",
      "Epoch 12/50\n",
      "150/150 [==============================] - 0s 1ms/step - loss: 1.4510 - accuracy: 0.6283 - recall_2: 0.6646 - val_loss: 0.9370 - val_accuracy: 0.7362 - val_recall_2: 0.4680\n",
      "Epoch 13/50\n",
      "150/150 [==============================] - 0s 1ms/step - loss: 0.9465 - accuracy: 0.7046 - recall_2: 0.7255 - val_loss: 1.2585 - val_accuracy: 0.6010 - val_recall_2: 0.8956\n",
      "Epoch 14/50\n",
      "150/150 [==============================] - 0s 937us/step - loss: 1.2310 - accuracy: 0.6761 - recall_2: 0.6846 - val_loss: 0.6363 - val_accuracy: 0.7496 - val_recall_2: 0.6229\n",
      "Epoch 15/50\n",
      "150/150 [==============================] - 0s 931us/step - loss: 0.8654 - accuracy: 0.6893 - recall_2: 0.6939 - val_loss: 0.6246 - val_accuracy: 0.7571 - val_recall_2: 0.4444\n",
      "Epoch 16/50\n",
      "150/150 [==============================] - 0s 1ms/step - loss: 0.9636 - accuracy: 0.6692 - recall_2: 0.6572 - val_loss: 1.3608 - val_accuracy: 0.7546 - val_recall_2: 0.0606\n",
      "Epoch 17/50\n",
      "150/150 [==============================] - 0s 1ms/step - loss: 1.3140 - accuracy: 0.6423 - recall_2: 0.6568 - val_loss: 0.6083 - val_accuracy: 0.7696 - val_recall_2: 0.3367\n",
      "Epoch 18/50\n",
      "150/150 [==============================] - 0s 1ms/step - loss: 1.0277 - accuracy: 0.6476 - recall_2: 0.6611 - val_loss: 0.6498 - val_accuracy: 0.6978 - val_recall_2: 0.7306\n",
      "Epoch 19/50\n",
      "150/150 [==============================] - 0s 964us/step - loss: 0.7776 - accuracy: 0.6870 - recall_2: 0.6726 - val_loss: 0.7711 - val_accuracy: 0.6678 - val_recall_2: 0.8148\n",
      "Epoch 20/50\n",
      "150/150 [==============================] - 0s 1ms/step - loss: 0.7702 - accuracy: 0.6817 - recall_2: 0.7024 - val_loss: 0.9675 - val_accuracy: 0.7629 - val_recall_2: 0.1111\n",
      "Epoch 21/50\n",
      "150/150 [==============================] - 0s 957us/step - loss: 1.1816 - accuracy: 0.6379 - recall_2: 0.6053 - val_loss: 0.5603 - val_accuracy: 0.7705 - val_recall_2: 0.3165\n",
      "Epoch 22/50\n",
      "150/150 [==============================] - 0s 1ms/step - loss: 0.7869 - accuracy: 0.6662 - recall_2: 0.6641 - val_loss: 0.7962 - val_accuracy: 0.6110 - val_recall_2: 0.8418\n",
      "Epoch 23/50\n",
      "150/150 [==============================] - 0s 963us/step - loss: 0.8310 - accuracy: 0.6371 - recall_2: 0.6774 - val_loss: 0.5685 - val_accuracy: 0.7162 - val_recall_2: 0.6869\n",
      "Epoch 24/50\n",
      "150/150 [==============================] - 0s 944us/step - loss: 0.7382 - accuracy: 0.6687 - recall_2: 0.6658 - val_loss: 0.6012 - val_accuracy: 0.7070 - val_recall_2: 0.6566\n",
      "Epoch 25/50\n",
      "150/150 [==============================] - 0s 976us/step - loss: 0.6754 - accuracy: 0.6857 - recall_2: 0.6993 - val_loss: 0.8056 - val_accuracy: 0.5968 - val_recall_2: 0.9091\n",
      "Epoch 26/50\n",
      "150/150 [==============================] - 0s 1ms/step - loss: 0.6152 - accuracy: 0.6965 - recall_2: 0.7357 - val_loss: 0.7099 - val_accuracy: 0.6444 - val_recall_2: 0.8788\n",
      "Epoch 27/50\n",
      "150/150 [==============================] - 0s 944us/step - loss: 0.6204 - accuracy: 0.6938 - recall_2: 0.7258 - val_loss: 0.4852 - val_accuracy: 0.7446 - val_recall_2: 0.6027\n",
      "Epoch 28/50\n",
      "150/150 [==============================] - 0s 1ms/step - loss: 0.6507 - accuracy: 0.6845 - recall_2: 0.6974 - val_loss: 0.4679 - val_accuracy: 0.7663 - val_recall_2: 0.5993\n",
      "Epoch 29/50\n",
      "150/150 [==============================] - 0s 957us/step - loss: 0.6758 - accuracy: 0.6891 - recall_2: 0.6663 - val_loss: 0.4953 - val_accuracy: 0.7613 - val_recall_2: 0.6195\n",
      "Epoch 30/50\n",
      "150/150 [==============================] - 0s 963us/step - loss: 0.6188 - accuracy: 0.7068 - recall_2: 0.7157 - val_loss: 0.8931 - val_accuracy: 0.5659 - val_recall_2: 0.9158\n",
      "Epoch 31/50\n",
      "150/150 [==============================] - 0s 944us/step - loss: 0.6608 - accuracy: 0.6792 - recall_2: 0.7050 - val_loss: 0.6290 - val_accuracy: 0.6853 - val_recall_2: 0.8350\n",
      "Epoch 32/50\n",
      "150/150 [==============================] - 0s 1ms/step - loss: 0.6681 - accuracy: 0.6936 - recall_2: 0.7203 - val_loss: 0.8257 - val_accuracy: 0.5993 - val_recall_2: 0.9091\n",
      "Epoch 33/50\n",
      "150/150 [==============================] - 0s 1ms/step - loss: 0.5968 - accuracy: 0.7108 - recall_2: 0.7332 - val_loss: 0.4466 - val_accuracy: 0.7805 - val_recall_2: 0.4848\n",
      "Epoch 34/50\n",
      "150/150 [==============================] - 0s 920us/step - loss: 0.6715 - accuracy: 0.6802 - recall_2: 0.7354 - val_loss: 0.8371 - val_accuracy: 0.6027 - val_recall_2: 0.8956\n",
      "Epoch 35/50\n",
      "150/150 [==============================] - 0s 937us/step - loss: 0.6787 - accuracy: 0.6691 - recall_2: 0.7037 - val_loss: 0.5008 - val_accuracy: 0.7429 - val_recall_2: 0.6801\n",
      "Epoch 36/50\n",
      "150/150 [==============================] - 0s 944us/step - loss: 0.6026 - accuracy: 0.7134 - recall_2: 0.7215 - val_loss: 0.5054 - val_accuracy: 0.7479 - val_recall_2: 0.6902\n",
      "Epoch 37/50\n",
      "150/150 [==============================] - 0s 950us/step - loss: 0.6153 - accuracy: 0.7087 - recall_2: 0.7183 - val_loss: 1.1239 - val_accuracy: 0.5092 - val_recall_2: 0.9731\n",
      "Epoch 38/50\n",
      "150/150 [==============================] - 0s 931us/step - loss: 0.6091 - accuracy: 0.6980 - recall_2: 0.7325 - val_loss: 0.4880 - val_accuracy: 0.7513 - val_recall_2: 0.6397\n",
      "Epoch 39/50\n"
     ]
    },
    {
     "name": "stdout",
     "output_type": "stream",
     "text": [
      "150/150 [==============================] - 0s 931us/step - loss: 0.5902 - accuracy: 0.7105 - recall_2: 0.7229 - val_loss: 0.5761 - val_accuracy: 0.7070 - val_recall_2: 0.8047\n",
      "Epoch 40/50\n",
      "150/150 [==============================] - 0s 1ms/step - loss: 0.6396 - accuracy: 0.6827 - recall_2: 0.7036 - val_loss: 0.4498 - val_accuracy: 0.7771 - val_recall_2: 0.5185\n",
      "Epoch 41/50\n",
      "150/150 [==============================] - 0s 924us/step - loss: 0.5918 - accuracy: 0.7189 - recall_2: 0.7201 - val_loss: 0.8419 - val_accuracy: 0.5943 - val_recall_2: 0.8990\n",
      "Epoch 42/50\n",
      "150/150 [==============================] - 0s 950us/step - loss: 0.6547 - accuracy: 0.6842 - recall_2: 0.7158 - val_loss: 0.4885 - val_accuracy: 0.7604 - val_recall_2: 0.6700\n",
      "Epoch 43/50\n",
      "150/150 [==============================] - 0s 1ms/step - loss: 0.5899 - accuracy: 0.7089 - recall_2: 0.7366 - val_loss: 0.5250 - val_accuracy: 0.7321 - val_recall_2: 0.7441\n",
      "Epoch 44/50\n",
      "150/150 [==============================] - 0s 918us/step - loss: 0.5781 - accuracy: 0.7218 - recall_2: 0.7365 - val_loss: 0.6022 - val_accuracy: 0.6836 - val_recall_2: 0.8687\n",
      "Epoch 45/50\n",
      "150/150 [==============================] - 0s 1ms/step - loss: 0.5410 - accuracy: 0.7181 - recall_2: 0.7429 - val_loss: 0.4407 - val_accuracy: 0.7830 - val_recall_2: 0.5623\n",
      "Epoch 46/50\n",
      "150/150 [==============================] - 0s 918us/step - loss: 0.5536 - accuracy: 0.7313 - recall_2: 0.7327 - val_loss: 0.6342 - val_accuracy: 0.6803 - val_recall_2: 0.8721\n",
      "Epoch 47/50\n",
      "150/150 [==============================] - 0s 1ms/step - loss: 0.7716 - accuracy: 0.6492 - recall_2: 0.6979 - val_loss: 0.4530 - val_accuracy: 0.7696 - val_recall_2: 0.4613\n",
      "Epoch 48/50\n",
      "150/150 [==============================] - 0s 931us/step - loss: 0.5879 - accuracy: 0.7188 - recall_2: 0.7140 - val_loss: 0.4552 - val_accuracy: 0.7663 - val_recall_2: 0.5118\n",
      "Epoch 49/50\n",
      "150/150 [==============================] - 0s 983us/step - loss: 0.5765 - accuracy: 0.7285 - recall_2: 0.7359 - val_loss: 0.4829 - val_accuracy: 0.7830 - val_recall_2: 0.2525\n",
      "Epoch 50/50\n",
      "150/150 [==============================] - 0s 950us/step - loss: 0.6441 - accuracy: 0.7021 - recall_2: 0.6968 - val_loss: 0.4628 - val_accuracy: 0.7579 - val_recall_2: 0.4613\n"
     ]
    }
   ],
   "source": [
    "history = model.fit(data, label, validation_split=0.2, epochs = 50,class_weight=weight_dict )"
   ]
  },
  {
   "cell_type": "code",
   "execution_count": 90,
   "metadata": {},
   "outputs": [
    {
     "name": "stdout",
     "output_type": "stream",
     "text": [
      "dict_keys(['loss', 'accuracy', 'recall_2', 'val_loss', 'val_accuracy', 'val_recall_2'])\n"
     ]
    },
    {
     "data": {
      "image/png": "[encoded data removed]",
      "text/plain": [
       "<Figure size 432x288 with 1 Axes>"
      ]
     },
     "metadata": {
      "needs_background": "light"
     },
     "output_type": "display_data"
    }
   ],
   "source": [
    "print(history.history.keys())\n",
    "plt.plot(history.history['val_recall_2'])\n",
    "plt.title('model loss')\n",
    "plt.ylabel('loss')\n",
    "plt.xlabel('epoch')\n",
    "plt.legend(['train', 'test'], loc='upper left')\n",
    "plt.show()"
   ]
  }
 ],
 "metadata": {
  "kernelspec": {
   "display_name": "Python 3",
   "language": "python",
   "name": "python3"
  },
  "language_info": {
   "codemirror_mode": {
    "name": "ipython",
    "version": 3
   },
   "file_extension": ".py",
   "mimetype": "text/x-python",
   "name": "python",
   "nbconvert_exporter": "python",
   "pygments_lexer": "ipython3",
   "version": "3.8.3"
  }
 },
 "nbformat": 4,
 "nbformat_minor": 4
}
